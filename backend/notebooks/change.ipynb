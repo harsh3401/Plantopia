{
 "cells": [
  {
   "cell_type": "code",
   "execution_count": 20,
   "metadata": {},
   "outputs": [],
   "source": [
    "import geemap\n",
    "import ee\n",
    "from geemap import chart\n",
    "import matplotlib.pyplot as plt\n",
    "import ipywidgets as widgets"
   ]
  },
  {
   "cell_type": "code",
   "execution_count": 21,
   "metadata": {},
   "outputs": [],
   "source": [
    "\n",
    "ee.Initialize()\n",
    "# ee.Authenticate()"
   ]
  },
  {
   "cell_type": "markdown",
   "metadata": {},
   "source": [
    "##  Change Detection"
   ]
  },
  {
   "cell_type": "code",
   "execution_count": 22,
   "metadata": {},
   "outputs": [],
   "source": [
    "choose_region=widgets.Dropdown(\n",
    "    options=[ 'Thane', 'Mumbai_Suburban','Custom Region'],\n",
    "    value='Custom Region',\n",
    "    description='Select region ',\n",
    "    disabled=False,\n",
    ")\n",
    "hbox1 = widgets.HBox([choose_region])"
   ]
  },
  {
   "cell_type": "code",
   "execution_count": 23,
   "metadata": {},
   "outputs": [],
   "source": [
    "style = {\"description_width\":\"initial\"}\n",
    "classify = widgets.Button(\n",
    "    description='Compute change',\n",
    "    button_style='primary',\n",
    "    tooltip='Click to compute change in the selected region',\n",
    "    style=style\n",
    ")\n",
    "classify.style.button_color='#11b981'\n",
    "\n",
    "output=widgets.Output()"
   ]
  },
  {
   "cell_type": "code",
   "execution_count": 24,
   "metadata": {},
   "outputs": [],
   "source": [
    "\n",
    "\n",
    "style = {\"description_width\":\"initial\"}\n",
    "\n",
    "start_year = widgets.IntSlider(description='Start Year:', value=2018, min=2018, max=2020, style=style)\n",
    "end_year = widgets.IntSlider(description='End Year:', value=2020, min=1984, max=2020, style=style)\n",
    "\n",
    "\n",
    "\n",
    "hbox3 = widgets.HBox([start_year])\n",
    "hbox4 = widgets.HBox([end_year])"
   ]
  },
  {
   "cell_type": "code",
   "execution_count": 25,
   "metadata": {},
   "outputs": [],
   "source": [
    "Map=geemap.Map()"
   ]
  },
  {
   "cell_type": "code",
   "execution_count": 26,
   "metadata": {},
   "outputs": [],
   "source": [
    "def maskS2clouds(image):\n",
    "  qa = image.select('QA60')\n",
    "  cloudBitMask = 1 << 10\n",
    "  cirrusBitMask = 1 << 11\n",
    "  mask = qa.bitwiseAnd(cloudBitMask).eq(0).And(\n",
    "             qa.bitwiseAnd(cirrusBitMask).eq(0))\n",
    "  return image.updateMask(mask).select(\"B.*\") \\\n",
    "      .copyProperties(image, [\"system:time_start\"])\n"
   ]
  },
  {
   "cell_type": "code",
   "execution_count": 27,
   "metadata": {},
   "outputs": [],
   "source": [
    "\n",
    "def calculate_change(t):\n",
    "      global Map\n",
    "      if choose_region.value=='Thane': \n",
    "        region=thane\n",
    "      elif choose_region.value=='Mumbai Suburban':\n",
    "        region=mumbai_suburban\n",
    "      else:\n",
    "        region=ee.FeatureCollection(Map.draw_features)\n",
    "      \n",
    "      admin2 = ee.FeatureCollection(\"FAO/GAUL_SIMPLIFIED_500m/2015/level2\")\n",
    "      mumbai_suburban=admin2.filter(ee.Filter.eq('ADM2_NAME', 'Mumbai Suburban'))\n",
    "      thane = admin2.filter(ee.Filter.eq('ADM2_NAME', 'Thane'))\n",
    "      s2 = ee.ImageCollection(\"COPERNICUS/S2\")\n",
    "      \n",
    "\n",
    "      start_date_1= str(start_year.value)+'-'+'01' + '-01'\n",
    "      start_date_2 = str(start_year.value)+'-'+'12' + '-31'\n",
    "      end_date_1 = str(end_year.value)+'-'+'01' + '-01'\n",
    "      end_date_2 = str(end_year.value)+'-'+str(12) + '-30'\n",
    "      with output:\n",
    "        output.clear_output()\n",
    "        print('Computing change.....')\n",
    "\n",
    "        rgbVis = {\n",
    "          'min': 0.0,\n",
    "          'max': 3000,\n",
    "          'bands': ['B4', 'B3', 'B2'],\n",
    "        }\n",
    "        filtered = s2 \\\n",
    "          .filter(ee.Filter.date(start_date_1,start_date_2)) \\\n",
    "          .filter(ee.Filter.bounds(region)) \\\n",
    "          .map(maskS2clouds)\n",
    "\n",
    "        filtered2 = s2 \\\n",
    "          .filter(ee.Filter.date(end_date_1,end_date_2)) \\\n",
    "          .filter(ee.Filter.bounds(region)) \\\n",
    "          .map(maskS2clouds)\n",
    "\n",
    "        image2019 = filtered.median().clip(region)\n",
    "        image2020 = filtered2.median().clip(region)\n",
    "\n",
    "  \n",
    "        Map.addLayer(image2019, rgbVis, '2019')\n",
    "        Map.addLayer(image2020, rgbVis, '2020')\n",
    "\n",
    "        ndvi2019 = image2019.normalizedDifference(['B8', 'B4']).rename(['ndvi'])\n",
    "        ndvi2020 = image2020.normalizedDifference(['B8', 'B4']).rename(['ndvi'])\n",
    "        ndviVis = {'min':0, 'max':1, 'palette': ['white', 'green']}\n",
    "\n",
    "        Map.addLayer(ndvi2019, ndviVis, 'ndvi')\n",
    "        Map.addLayer(ndvi2020, ndviVis, 'ndvi')\n",
    "\n",
    "\n",
    "        # 3. Classify NDVI into 5 classes\n",
    "        ndvi2019classify = ee.Image(1) \\\n",
    "                  .where(ndvi2019.gt(0.0).And(ndvi2019.lte(0.2)), 2) \\\n",
    "                  .where(ndvi2019.gt(0.2).And(ndvi2019.lte(0.4)), 3) \\\n",
    "                  .where(ndvi2019.gt(0.4).And(ndvi2019.lte(0.6)), 4) \\\n",
    "                  .where(ndvi2019.gt(0.6), 5).clip(region)\n",
    "\n",
    "        ndvi2020classify = ee.Image(1) \\\n",
    "                  .where(ndvi2020.gt(0.0).And(ndvi2020.lte(0.2)), 2) \\\n",
    "                  .where(ndvi2020.gt(0.2).And(ndvi2020.lte(0.4)), 3) \\\n",
    "                  .where(ndvi2020.gt(0.4).And(ndvi2020.lte(0.6)), 4) \\\n",
    "                  .where(ndvi2020.gt(0.6), 5).clip(region)\n",
    "\n",
    "        # Add map layers\n",
    "        Map.addLayer(ndvi2019classify, {'min': 1, 'max': 5, 'palette': ['#654321','#FFA500','#FFFF00', '#00FF00', '#008000']}, 'Classified NDVI for start date',True)\n",
    "        Map.addLayer(ndvi2020classify, {'min': 1, 'max': 5, 'palette': ['#654321','#FFA500','#FFFF00', '#00FF00', '#008000']}, 'Classified NDVI for end date',True)\n",
    "        distance = ndvi2020.subtract(ndvi2019)\n",
    "        Map.addLayer(distance, {'min': 0, 'max': 0.1, 'palette': ['white', 'green']}, 'Spectral distance')\n",
    "        Map.centerObject(region, 9)\n",
    "        print('Computation complete....')\n",
    "classify.on_click(calculate_change)\n",
    " \n",
    "\n",
    "\n",
    "\n",
    "\n",
    " \n"
   ]
  },
  {
   "cell_type": "code",
   "execution_count": 28,
   "metadata": {},
   "outputs": [
    {
     "data": {
      "application/vnd.jupyter.widget-view+json": {
       "model_id": "f6b843afa6104396b3a18c4585f818b7",
       "version_major": 2,
       "version_minor": 0
      },
      "text/plain": [
       "HBox(children=(IntSlider(value=1984, description='Start Year:', max=2020, min=1984, style=SliderStyle(descript…"
      ]
     },
     "metadata": {},
     "output_type": "display_data"
    }
   ],
   "source": [
    "hbox3"
   ]
  },
  {
   "cell_type": "code",
   "execution_count": 29,
   "metadata": {},
   "outputs": [
    {
     "data": {
      "application/vnd.jupyter.widget-view+json": {
       "model_id": "17c81a0bc182405c8a23fe021f5534d4",
       "version_major": 2,
       "version_minor": 0
      },
      "text/plain": [
       "HBox(children=(IntSlider(value=2020, description='End Year:', max=2020, min=1984, style=SliderStyle(descriptio…"
      ]
     },
     "metadata": {},
     "output_type": "display_data"
    }
   ],
   "source": [
    "hbox4"
   ]
  },
  {
   "cell_type": "code",
   "execution_count": 30,
   "metadata": {},
   "outputs": [
    {
     "data": {
      "application/vnd.jupyter.widget-view+json": {
       "model_id": "1610945b433749f488918039bceec86d",
       "version_major": 2,
       "version_minor": 0
      },
      "text/plain": [
       "HBox(children=(Dropdown(description='Select region ', options=('Thane', 'Mumbai_Suburban'), value='Thane'),))"
      ]
     },
     "metadata": {},
     "output_type": "display_data"
    }
   ],
   "source": [
    "hbox1"
   ]
  },
  {
   "cell_type": "code",
   "execution_count": 31,
   "metadata": {},
   "outputs": [
    {
     "data": {
      "application/vnd.jupyter.widget-view+json": {
       "model_id": "ed14007dd77d49f58967028f5e1c639c",
       "version_major": 2,
       "version_minor": 0
      },
      "text/plain": [
       "Button(button_style='primary', description='Compute change', style=ButtonStyle(button_color='#11b981'), toolti…"
      ]
     },
     "metadata": {},
     "output_type": "display_data"
    }
   ],
   "source": [
    "classify"
   ]
  },
  {
   "cell_type": "code",
   "execution_count": 32,
   "metadata": {},
   "outputs": [
    {
     "data": {
      "application/vnd.jupyter.widget-view+json": {
       "model_id": "67c5a707418c4a9b9a7a397d1603b5b2",
       "version_major": 2,
       "version_minor": 0
      },
      "text/plain": [
       "Output()"
      ]
     },
     "metadata": {},
     "output_type": "display_data"
    }
   ],
   "source": [
    "output"
   ]
  },
  {
   "cell_type": "code",
   "execution_count": 33,
   "metadata": {},
   "outputs": [
    {
     "data": {
      "application/vnd.jupyter.widget-view+json": {
       "model_id": "b503168349a0497383c17d993e669bde",
       "version_major": 2,
       "version_minor": 0
      },
      "text/plain": [
       "Map(center=[20, 0], controls=(WidgetControl(options=['position', 'transparent_bg'], widget=HBox(children=(Togg…"
      ]
     },
     "metadata": {},
     "output_type": "display_data"
    }
   ],
   "source": [
    "Map"
   ]
  },
  {
   "cell_type": "code",
   "execution_count": 34,
   "metadata": {},
   "outputs": [],
   "source": [
    "# threshold=0.3\n",
    "\n",
    "# changes = distance.lte(threshold).Or(distance.gte(threshold)).selfMask()\n",
    "# # Calculating area above the threshold value\n",
    "# pixel_area=changes.multiply(ee.Image.pixelArea())\n",
    "# area=pixel_area.reduceRegion(reducer=ee.Reducer.sum(), geometry=thane, scale=30 ,maxPixels=10e9)\n",
    "\n"
   ]
  }
 ],
 "metadata": {
  "interpreter": {
   "hash": "5b972c7d81ad4ef9113ac4c79990fc7dfe856b1bb673f6e233375f412f0fa184"
  },
  "kernelspec": {
   "display_name": "Python 3 (ipykernel)",
   "language": "python",
   "name": "python3"
  },
  "language_info": {
   "codemirror_mode": {
    "name": "ipython",
    "version": 3
   },
   "file_extension": ".py",
   "mimetype": "text/x-python",
   "name": "python",
   "nbconvert_exporter": "python",
   "pygments_lexer": "ipython3",
   "version": "3.8.11"
  }
 },
 "nbformat": 4,
 "nbformat_minor": 2
}
