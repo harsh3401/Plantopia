{
 "cells": [
  {
   "cell_type": "markdown",
   "metadata": {},
   "source": [
    "# Classifying Data"
   ]
  },
  {
   "cell_type": "markdown",
   "metadata": {},
   "source": [
    "## Classification via MODIS data"
   ]
  },
  {
   "cell_type": "markdown",
   "metadata": {},
   "source": [
    "### Importing Packages"
   ]
  },
  {
   "cell_type": "code",
   "execution_count": 24,
   "metadata": {},
   "outputs": [],
   "source": [
    "import geemap\n",
    "import numpy as np\n",
    "import pandas as pd\n",
    "import ee\n",
    "from geemap import chart\n",
    "import matplotlib.pyplot as plt\n",
    "import ipywidgets as widgets"
   ]
  },
  {
   "cell_type": "code",
   "execution_count": 25,
   "metadata": {},
   "outputs": [],
   "source": [
    "\n",
    "# ee.Authenticate()\n",
    "# ee.Initialize()\n",
    "Map = geemap.Map()\n",
    "admin = ee.FeatureCollection(\"FAO/GAUL_SIMPLIFIED_500m/2015/level2\")\n",
    "thane = admin.filter(ee.Filter.eq('ADM2_NAME', 'Thane'))\n",
    "\n",
    "geometry = thane.geometry()\n",
    "\n",
    "point = ee.Geometry.Point([80.3288, 23.5121])\n",
    "\n",
    "image = ee.ImageCollection('LANDSAT/LC08/C01/T1_SR') \\\n",
    ".filterDate('2019-01-01', '2019-12-31' ) \\\n",
    ".sort('CLOUD_COVER') \\\n",
    ".min() \\\n",
    ".select('B[1-7]') \\\n",
    ".clip(geometry)\n",
    "\n",
    "\n",
    "vis_params = {\n",
    "'min': 0,\n",
    "'max': 3000,\n",
    "'bands': ['B5', 'B4', 'B3']\n",
    "}\n",
    "\n",
    "Map.centerObject(point, 5)\n",
    "Map.addLayer(image, vis_params, \"Landsat-8\")\n",
    "modis = ee.ImageCollection('MODIS/006/MCD12Q1') \\\n",
    ".filterDate('2016-01-01', '2019-01-01') \\\n",
    ".select('LC_Type1') \\\n",
    ".reduce(ee.Reducer.median())\n",
    "\n",
    "points = modis.sample(**{\n",
    "'region': ee.Geometry.Rectangle([72.0000, 23.0000, 82.0000, 15.0000]),\n",
    "'scale': 30,\n",
    "'numPixels': 5000,\n",
    "'seed': 0,\n",
    "'geometries': True  # Set this to False to ignore geometries\n",
    "})\n",
    "\n",
    "Map.addLayer(points, {}, 'training', False)\n",
    "\n",
    "# Use these bands for prediction.\n",
    "bands = ['B1', 'B2', 'B3', 'B4', 'B5', 'B6', 'B7']\n",
    "\n",
    "\n",
    "# This property of the table stores the land cover labels.\n",
    "label = 'LC_Type1_median'\n",
    "input = image.select(bands)\n",
    "\n",
    "# Overlay the points on the imagery to get training.\n",
    "training = input.sampleRegions(**{\n",
    "'collection': points,\n",
    "'properties': [label],\n",
    "'scale': 30\n",
    "})\n",
    "\n",
    "# Train a CART classifier with default parameters.\n",
    "trained = ee.Classifier.smileCart().train(training, label, bands)\n",
    "\n",
    "result = image.select(bands).classify(trained)\n",
    "\n",
    "landcover = ee.ImageCollection('MODIS/006/MCD12Q1') \\\n",
    ".filterDate('2019-01-01', '2019-12-31') \\\n",
    ".select('LC_Type1') \\\n",
    ".reduce(ee.Reducer.mean()) \\\n",
    ".clip(geometry)\n",
    "\n",
    "LandCoverVis = {\n",
    "'min': 1.0,\n",
    "'max': 17.0,\n",
    "'palette': [\n",
    "'05450a', '086a10', '54a708', '78d203', '009900', 'c6b044', 'dcd159',\n",
    "'dade48', 'fbff13', 'b6ff05', '27ff87', 'c24f44', 'a5a5a5', 'ff6d4c',\n",
    "'69fff8', 'f9ffa4', '1c0dff'\n",
    "],\n",
    "}\n",
    "\n",
    "Map.centerObject(point, 5)\n",
    "Map.addLayer(landcover, LandCoverVis, 'MODIS Land Cover')\n",
    "\n",
    "# landsatcover = result.set('classification_class_values', [0, 5,13,16])\n",
    "# landsatcover = landsatcover.set('classification_class_palette', ['1c0dff',  '009900', 'a5a5a5',  'f9ffa4'])\n",
    "# Map.addLayer(landsatcover, {}, 'Land cover')\n",
    "\n",
    "ee_class_table = \"\"\"\n",
    "\n",
    "Value\tColor\tDescription\n",
    "0\t1c0dff\tWater\n",
    "5\t009900\tMixed forest\n",
    "13\ta5a5a5\tUrban and built-up\n",
    "16\tf9ffa4\tBarren or sparsely vegetated\n",
    "\n",
    "\"\"\"\n",
    "\n",
    "legend_dict = geemap.legend_from_ee(ee_class_table)\n",
    "Map.add_legend(legend_title=\"Land Cover Legend\", legend_dict=legend_dict, position='bottomleft')\n",
    "\n",
    "admin2 = ee.FeatureCollection(\"FAO/GAUL_SIMPLIFIED_500m/2015/level2\");\n",
    "maha = admin2.filter(ee.Filter.eq('ADM2_NAME', 'Thane'))\n",
    "\n",
    "styleParams = {\n",
    "\"fillColor\": '#00000000',\n",
    "\"color\": '#301934',\n",
    "\"width\": 2.0,\n",
    "}\n",
    "\n",
    "Map.addLayer(maha.style(**styleParams), {}, 'Thane')\n",
    "\n",
    "\n"
   ]
  },
  {
   "cell_type": "code",
   "execution_count": 3,
   "metadata": {},
   "outputs": [
    {
     "data": {
      "application/vnd.jupyter.widget-view+json": {
       "model_id": "de5a1d92f4ca4a3a84d74140b6463d71",
       "version_major": 2,
       "version_minor": 0
      },
      "text/plain": [
       "Map(center=[19.602852050969535, 73.16269463943992], controls=(WidgetControl(options=['position', 'transparent_…"
      ]
     },
     "metadata": {},
     "output_type": "display_data"
    }
   ],
   "source": [
    "Map.centerObject(thane, 9)\n",
    "Map"
   ]
  },
  {
   "cell_type": "code",
   "execution_count": 26,
   "metadata": {},
   "outputs": [],
   "source": [
    "choose_region=widgets.Dropdown(\n",
    "    options=[ 'Thane', 'Mumbai_Suburban'],\n",
    "    value='Mumbai_Suburban',\n",
    "    description='Number:',\n",
    "    disabled=False,\n",
    ")\n",
    "hbox1 = widgets.HBox([choose_region])"
   ]
  },
  {
   "cell_type": "code",
   "execution_count": 27,
   "metadata": {},
   "outputs": [],
   "source": [
    "style = {\"description_width\":\"initial\"}\n",
    "classify = widgets.Button(\n",
    "    description='Classify the image',\n",
    "    button_style='primary',\n",
    "    tooltip='Click to classify the map',\n",
    "    style=style\n",
    ")\n"
   ]
  },
  {
   "cell_type": "markdown",
   "metadata": {},
   "source": [
    "## Classification via manual feature selection"
   ]
  },
  {
   "cell_type": "code",
   "execution_count": 28,
   "metadata": {},
   "outputs": [],
   "source": [
    "\n",
    "# Write a function for Cloud masking\n",
    "def maskS2clouds(image):\n",
    "  qa = image.select('QA60')\n",
    "  cloudBitMask = 1 << 10\n",
    "  cirrusBitMask = 1 << 11\n",
    "  mask = qa.bitwiseAnd(cloudBitMask).eq(0).And(\n",
    "             qa.bitwiseAnd(cirrusBitMask).eq(0))\n",
    "  return image.updateMask(mask).select(\"B.*\").copyProperties(image, [\"system:time_start\"])"
   ]
  },
  {
   "cell_type": "code",
   "execution_count": 35,
   "metadata": {},
   "outputs": [],
   "source": [
    "Map2=geemap.Map()\n",
    "admin2 = ee.FeatureCollection(\"FAO/GAUL_SIMPLIFIED_500m/2015/level2\")\n",
    "mumbai_suburban=admin2.filter(ee.Filter.eq('ADM2_NAME', 'Mumbai Suburban'))\n",
    "thane = admin2.filter(ee.Filter.eq('ADM2_NAME', 'Thane'))\n",
    "s2 = ee.ImageCollection(\"COPERNICUS/S2\")\n",
    "merged = ee.FeatureCollection(\"users/jainhn/merged\")\n",
    "mumbai_merged=ee.FeatureCollection(\"users/jainhn/m_merged_2\")\n",
    "roi=merged\n",
    "region=thane\n",
    "classified=None\n",
    "\n",
    "def process_classify(t):\n",
    "  with output:\n",
    "        output.clear_output()\n",
    "        global roi\n",
    "        global region\n",
    "        global classified\n",
    "          \n",
    "            \n",
    "        print(\"Classifying.....\")\n",
    "\n",
    "\n",
    "        if choose_region.value=='Thane':\n",
    "          \n",
    "          roi=merged\n",
    "          \n",
    "          region=thane\n",
    "        else :\n",
    "\n",
    "          roi=mumbai_merged\n",
    "        \n",
    "          region=mumbai_suburban\n",
    "\n",
    "        rgbVis = {\n",
    "        'min': 0.0,\n",
    "        'max': 3000,\n",
    "        'bands': ['B4', 'B3', 'B2'],\n",
    "        }\n",
    "        filtered = s2 \\\n",
    "        .filter(ee.Filter.date('2019-01-01', '2019-12-31')) .filter(ee.Filter.bounds(region)) \\\n",
    "        .map(maskS2clouds).median().clip(region)\n",
    "\n",
    "        bands = ['B4','B3','B2','B1']\n",
    "        Map2.addLayer(filtered,rgbVis,'Region Of Interest')\n",
    "\n",
    "        # veg.merge(land).merge(water).merge(urban)\n",
    "\n",
    "        sampled= filtered.sampleRegions(collection=roi, properties=['lc'], scale=20)\n",
    "        random_column=sampled.randomColumn()\n",
    "        training_sample=random_column.filter(ee.Filter.gte('random',0.3))\n",
    "        testing_sample=random_column.filter(ee.Filter.lte('random',0.3))\n",
    "\n",
    "        classifier = ee.Classifier.smileRandomForest(50).train(features=training_sample, classProperty='lc', inputProperties=bands)\n",
    "      \n",
    "        classified=filtered.classify(classifier)\n",
    "        Map2.centerObject(roi,20)\n",
    "        Map2.addLayer(classified,{'min':0, 'max':3, 'palette':['green','yellow','blue','white']},'Classified image')\n",
    "        legend_keys = ['Vegetation', 'Land', 'Water', 'Urban']\n",
    "        legend_colors = ['#008000', '#FFFF00', '#0000FF', '#FFFFFF']\n",
    "        # legend_colors = ['green','yellow','blue','white']\n",
    "        Map2.add_legend(legend_keys=legend_keys, legend_colors=legend_colors, position='bottomleft')\n",
    "\n",
    "classify.on_click(process_classify)\n",
    "\n",
    "\n",
    "\n",
    "\n"
   ]
  },
  {
   "cell_type": "code",
   "execution_count": 30,
   "metadata": {},
   "outputs": [
    {
     "data": {
      "application/vnd.jupyter.widget-view+json": {
       "model_id": "8da2512ad8da42dfa2f5b23df952ee32",
       "version_major": 2,
       "version_minor": 0
      },
      "text/plain": [
       "HBox(children=(Dropdown(description='Number:', index=1, options=('Thane', 'Mumbai_Suburban'), value='Mumbai_Su…"
      ]
     },
     "metadata": {},
     "output_type": "display_data"
    }
   ],
   "source": [
    "\n",
    "hbox1"
   ]
  },
  {
   "cell_type": "code",
   "execution_count": 31,
   "metadata": {},
   "outputs": [
    {
     "data": {
      "application/vnd.jupyter.widget-view+json": {
       "model_id": "060c5fc3334c4143abc040edf1fcb4a0",
       "version_major": 2,
       "version_minor": 0
      },
      "text/plain": [
       "Button(button_style='primary', description='Classify the image', style=ButtonStyle(), tooltip='Click to classi…"
      ]
     },
     "metadata": {},
     "output_type": "display_data"
    }
   ],
   "source": [
    "classify"
   ]
  },
  {
   "cell_type": "code",
   "execution_count": 32,
   "metadata": {},
   "outputs": [
    {
     "data": {
      "application/vnd.jupyter.widget-view+json": {
       "model_id": "e69c433ae2f54c2e878b3b2fab4c0a92",
       "version_major": 2,
       "version_minor": 0
      },
      "text/plain": [
       "Output()"
      ]
     },
     "metadata": {},
     "output_type": "display_data"
    }
   ],
   "source": [
    "\n",
    "output = widgets.Output()\n",
    "output"
   ]
  },
  {
   "cell_type": "code",
   "execution_count": 33,
   "metadata": {},
   "outputs": [
    {
     "data": {
      "application/vnd.jupyter.widget-view+json": {
       "model_id": "68c247b1ee24477385fbaa4b4612ad36",
       "version_major": 2,
       "version_minor": 0
      },
      "text/plain": [
       "Map(center=[19.07832428948976, 72.89936188474536], controls=(WidgetControl(options=['position', 'transparent_b…"
      ]
     },
     "metadata": {},
     "output_type": "display_data"
    }
   ],
   "source": [
    "Map2"
   ]
  },
  {
   "cell_type": "markdown",
   "metadata": {},
   "source": [
    "## Accuracy classification "
   ]
  },
  {
   "cell_type": "code",
   "execution_count": 6,
   "metadata": {},
   "outputs": [
    {
     "ename": "NameError",
     "evalue": "name 'classified' is not defined",
     "output_type": "error",
     "traceback": [
      "\u001b[0;31m---------------------------------------------------------------------------\u001b[0m",
      "\u001b[0;31mNameError\u001b[0m                                 Traceback (most recent call last)",
      "\u001b[1;32m/Users/harsh/Desktop/Mini_Proj_Main/mini_project/backend/notebooks/classification.ipynb Cell 17'\u001b[0m in \u001b[0;36m<cell line: 1>\u001b[0;34m()\u001b[0m\n\u001b[0;32m----> <a href='vscode-notebook-cell:/Users/harsh/Desktop/Mini_Proj_Main/mini_project/backend/notebooks/classification.ipynb#ch0000019?line=0'>1</a>\u001b[0m areaImage \u001b[39m=\u001b[39m ee\u001b[39m.\u001b[39mImage\u001b[39m.\u001b[39mpixelArea()\u001b[39m.\u001b[39mdivide(\u001b[39m1e6\u001b[39m)\u001b[39m.\u001b[39maddBands(classified)\n\u001b[1;32m      <a href='vscode-notebook-cell:/Users/harsh/Desktop/Mini_Proj_Main/mini_project/backend/notebooks/classification.ipynb#ch0000019?line=2'>3</a>\u001b[0m \u001b[39m# Calculate Area by Class\u001b[39;00m\n\u001b[1;32m      <a href='vscode-notebook-cell:/Users/harsh/Desktop/Mini_Proj_Main/mini_project/backend/notebooks/classification.ipynb#ch0000019?line=3'>4</a>\u001b[0m \u001b[39m# Using a Grouped Reducer\u001b[39;00m\n\u001b[1;32m      <a href='vscode-notebook-cell:/Users/harsh/Desktop/Mini_Proj_Main/mini_project/backend/notebooks/classification.ipynb#ch0000019?line=4'>5</a>\u001b[0m areas \u001b[39m=\u001b[39m areaImage\u001b[39m.\u001b[39mreduceRegion(\n\u001b[1;32m      <a href='vscode-notebook-cell:/Users/harsh/Desktop/Mini_Proj_Main/mini_project/backend/notebooks/classification.ipynb#ch0000019?line=5'>6</a>\u001b[0m       reducer\u001b[39m=\u001b[39m ee\u001b[39m.\u001b[39mReducer\u001b[39m.\u001b[39msum()\u001b[39m.\u001b[39mgroup(\n\u001b[1;32m      <a href='vscode-notebook-cell:/Users/harsh/Desktop/Mini_Proj_Main/mini_project/backend/notebooks/classification.ipynb#ch0000019?line=6'>7</a>\u001b[0m       groupField\u001b[39m=\u001b[39m \u001b[39m1\u001b[39m,\n\u001b[0;32m   (...)\u001b[0m\n\u001b[1;32m     <a href='vscode-notebook-cell:/Users/harsh/Desktop/Mini_Proj_Main/mini_project/backend/notebooks/classification.ipynb#ch0000019?line=11'>12</a>\u001b[0m     tileScale\u001b[39m=\u001b[39m \u001b[39m4\u001b[39m,\n\u001b[1;32m     <a href='vscode-notebook-cell:/Users/harsh/Desktop/Mini_Proj_Main/mini_project/backend/notebooks/classification.ipynb#ch0000019?line=12'>13</a>\u001b[0m     maxPixels\u001b[39m=\u001b[39m \u001b[39m1e10\u001b[39m)\n",
      "\u001b[0;31mNameError\u001b[0m: name 'classified' is not defined"
     ]
    }
   ],
   "source": [
    "\n",
    "# areaImage = ee.Image.pixelArea().divide(1e6).addBands(classified)\n",
    "\n",
    "# # Calculate Area by Class\n",
    "# # Using a Grouped Reducer\n",
    "# areas = areaImage.reduceRegion(\n",
    "#       reducer= ee.Reducer.sum().group(\n",
    "#       groupField= 1,\n",
    "#       groupName= 'classification'\n",
    "#     ),\n",
    "#     geometry= roi,\n",
    "#     scale= 100,\n",
    "#     tileScale= 4,\n",
    "#     maxPixels= 1e10)\n",
    "\n",
    "\n",
    "# classAreas = ee.List(areas.get('groups'))\n",
    "\n",
    "\n",
    "# # creating the dataset\n",
    "\n",
    "# classes = classAreas.getInfo()\n",
    "# sum_values = [item['sum'] for item in classes]\n",
    "\n",
    "# types = ['Vegetation', 'Land', 'Water', 'Urban']\n",
    "\n",
    "# fig = plt.figure(figsize = (20, 10))\n",
    "# # creating the bar plot\n",
    "\n",
    "# ax = fig.add_subplot(121)\n",
    "# ax.bar(types, sum_values, color =['green','brown','blue','pink'],\n",
    "#         width = 0.4)\n",
    "# ax.set_xlabel(\"Claasiification type\")\n",
    "# ax.set_ylabel(\"Areas of land types\")\n",
    "# plt.title(\"Area bar plot\")\n",
    "# ax.spines['left'].set_color('red')        # setting up Y-axis tick color to red\n",
    "# ax.spines['bottom'].set_color('blue')     # setting up X-axis tick color to blue\n",
    "# ax.xaxis.label.set_color('white')\n",
    "# ax.yaxis.label.set_color('white')\n",
    "# ax.tick_params(axis='x', colors='white')\n",
    "# ax.tick_params(axis='y', colors='white')\n",
    "# plt.show()\n",
    "# plot"
   ]
  },
  {
   "cell_type": "code",
   "execution_count": 5,
   "metadata": {},
   "outputs": [
    {
     "ename": "NameError",
     "evalue": "name 'testing_sample' is not defined",
     "output_type": "error",
     "traceback": [
      "\u001b[0;31m---------------------------------------------------------------------------\u001b[0m",
      "\u001b[0;31mNameError\u001b[0m                                 Traceback (most recent call last)",
      "\u001b[1;32m/Users/harsh/Desktop/Mini_Proj_Main/mini_project/backend/notebooks/classification.ipynb Cell 18'\u001b[0m in \u001b[0;36m<cell line: 3>\u001b[0;34m()\u001b[0m\n\u001b[1;32m      <a href='vscode-notebook-cell:/Users/harsh/Desktop/Mini_Proj_Main/mini_project/backend/notebooks/classification.ipynb#ch0000020?line=0'>1</a>\u001b[0m train_accuracy \u001b[39m=\u001b[39m trained\u001b[39m.\u001b[39mconfusionMatrix()\n\u001b[1;32m      <a href='vscode-notebook-cell:/Users/harsh/Desktop/Mini_Proj_Main/mini_project/backend/notebooks/classification.ipynb#ch0000020?line=1'>2</a>\u001b[0m train_accuracy\u001b[39m.\u001b[39mgetInfo()\n\u001b[0;32m----> <a href='vscode-notebook-cell:/Users/harsh/Desktop/Mini_Proj_Main/mini_project/backend/notebooks/classification.ipynb#ch0000020?line=2'>3</a>\u001b[0m testing_accuracy\u001b[39m=\u001b[39mtesting_sample\u001b[39m.\u001b[39mclassify(classifier)\u001b[39m.\u001b[39merrorMatrix(\u001b[39m'\u001b[39m\u001b[39mlc\u001b[39m\u001b[39m'\u001b[39m,\u001b[39m'\u001b[39m\u001b[39mclassification\u001b[39m\u001b[39m'\u001b[39m)\n\u001b[1;32m      <a href='vscode-notebook-cell:/Users/harsh/Desktop/Mini_Proj_Main/mini_project/backend/notebooks/classification.ipynb#ch0000020?line=3'>4</a>\u001b[0m cm\u001b[39m=\u001b[39mtesting_accuracy\u001b[39m.\u001b[39mgetInfo()\n\u001b[1;32m      <a href='vscode-notebook-cell:/Users/harsh/Desktop/Mini_Proj_Main/mini_project/backend/notebooks/classification.ipynb#ch0000020?line=4'>5</a>\u001b[0m cm\n",
      "\u001b[0;31mNameError\u001b[0m: name 'testing_sample' is not defined"
     ]
    }
   ],
   "source": [
    "# train_accuracy = trained.confusionMatrix()\n",
    "# train_accuracy.getInfo()\n",
    "# testing_accuracy=testing_sample.classify(classifier).errorMatrix('lc','classification')\n",
    "# cm=testing_accuracy.getInfo()\n",
    "# cm"
   ]
  },
  {
   "cell_type": "code",
   "execution_count": null,
   "metadata": {},
   "outputs": [],
   "source": []
  }
 ],
 "metadata": {
  "interpreter": {
   "hash": "aee8b7b246df8f9039afb4144a1f6fd8d2ca17a180786b69acc140d282b71a49"
  },
  "kernelspec": {
   "display_name": "Python 3 (ipykernel)",
   "language": "python",
   "name": "python3"
  },
  "language_info": {
   "codemirror_mode": {
    "name": "ipython",
    "version": 3
   },
   "file_extension": ".py",
   "mimetype": "text/x-python",
   "name": "python",
   "nbconvert_exporter": "python",
   "pygments_lexer": "ipython3",
   "version": "3.8.11"
  }
 },
 "nbformat": 4,
 "nbformat_minor": 2
}
