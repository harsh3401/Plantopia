{
 "cells": [
  {
   "cell_type": "markdown",
   "metadata": {},
   "source": [
    "## Importing packages"
   ]
  },
  {
   "cell_type": "code",
   "execution_count": 2,
   "metadata": {},
   "outputs": [],
   "source": [
    "import geemap\n",
    "import numpy as np\n",
    "import pandas as pd\n",
    "import ee\n",
    "from geemap import chart\n",
    "import matplotlib.pyplot as plt"
   ]
  },
  {
   "cell_type": "code",
   "execution_count": 4,
   "metadata": {},
   "outputs": [
    {
     "data": {
      "text/html": [
       "<p>To authorize access needed by Earth Engine, open the following\n",
       "        URL in a web browser and follow the instructions:</p>\n",
       "        <p><a href=https://code.earthengine.google.com/client-auth?scopes=https%3A//www.googleapis.com/auth/earthengine%20https%3A//www.googleapis.com/auth/devstorage.full_control&request_id=XN9dR5pratmuJI3dhKKIO-LbCpw4l1QaPPxiA9lHNX4&tc=MM1KXPvSRINuqvN6_6T_AdiV6l4-NJg98WWImXaHaHE&cc=hhmtXocBjN81GK64vXcirVx3BjY88XyF2xNv1CAon8k>https://code.earthengine.google.com/client-auth?scopes=https%3A//www.googleapis.com/auth/earthengine%20https%3A//www.googleapis.com/auth/devstorage.full_control&request_id=XN9dR5pratmuJI3dhKKIO-LbCpw4l1QaPPxiA9lHNX4&tc=MM1KXPvSRINuqvN6_6T_AdiV6l4-NJg98WWImXaHaHE&cc=hhmtXocBjN81GK64vXcirVx3BjY88XyF2xNv1CAon8k</a></p>\n",
       "        <p>The authorization workflow will generate a code, which you\n",
       "        should paste in the box below</p>\n",
       "        "
      ],
      "text/plain": [
       "<IPython.core.display.HTML object>"
      ]
     },
     "metadata": {},
     "output_type": "display_data"
    },
    {
     "name": "stdout",
     "output_type": "stream",
     "text": [
      "\n",
      "Successfully saved authorization token.\n"
     ]
    }
   ],
   "source": [
    "\n",
    "ee.Initialize()"
   ]
  },
  {
   "cell_type": "markdown",
   "metadata": {},
   "source": [
    "##  Change Detection"
   ]
  },
  {
   "cell_type": "code",
   "execution_count": 10,
   "metadata": {},
   "outputs": [
    {
     "data": {
      "application/vnd.jupyter.widget-view+json": {
       "model_id": "03b3631fc9ca45758f89ce818165cd1c",
       "version_major": 2,
       "version_minor": 0
      },
      "text/plain": [
       "Map(center=[19.602852050969535, 73.16269463943992], controls=(WidgetControl(options=['position', 'transparent_…"
      ]
     },
     "metadata": {},
     "output_type": "display_data"
    }
   ],
   "source": [
    "admin2 = ee.FeatureCollection(\"FAO/GAUL_SIMPLIFIED_500m/2015/level2\")\n",
    "thane = admin2.filter(ee.Filter.eq('ADM2_NAME', 'Thane'))\n",
    "Map = geemap.Map()\n",
    "\n",
    "\n",
    "s2 = ee.ImageCollection(\"COPERNICUS/S2\")\n",
    "\n",
    "rgbVis = {\n",
    "  'min': 0.0,\n",
    "  'max': 3000,\n",
    "  'bands': ['B4', 'B3', 'B2'],\n",
    "}\n",
    "\n",
    "# Write a function for Cloud masking\n",
    "def maskS2clouds(image):\n",
    "  qa = image.select('QA60')\n",
    "  cloudBitMask = 1 << 10\n",
    "  cirrusBitMask = 1 << 11\n",
    "  mask = qa.bitwiseAnd(cloudBitMask).eq(0).And(\n",
    "             qa.bitwiseAnd(cirrusBitMask).eq(0))\n",
    "  return image.updateMask(mask).select(\"B.*\") \\\n",
    "      .copyProperties(image, [\"system:time_start\"])\n",
    "\n",
    "filtered = s2 \\\n",
    "  .filter(ee.Filter.date('2019-01-01', '2019-12-31')) \\\n",
    "  .filter(ee.Filter.bounds(thane)) \\\n",
    "  .map(maskS2clouds)\n",
    "\n",
    "timelapseimage = s2 \\\n",
    "  .filter(ee.Filter.bounds(thane)) \\\n",
    "  .map(maskS2clouds)\n",
    "\n",
    "filtered2 = s2 \\\n",
    "  .filter(ee.Filter.date('2020-01-01', '2020-12-31')) \\\n",
    "  .filter(ee.Filter.bounds(thane)) \\\n",
    "  .map(maskS2clouds)\n",
    "\n",
    "image2019 = filtered.median().clip(thane)\n",
    "image2020 = filtered2.median().clip(thane)\n",
    "\n",
    "# Display the input composite.\n",
    "\n",
    "Map.addLayer(image2019, rgbVis, '2019')\n",
    "Map.addLayer(image2020, rgbVis, '2020')\n",
    "\n",
    "ndvi2019 = image2019.normalizedDifference(['B8', 'B4']).rename(['ndvi'])\n",
    "ndvi2020 = image2020.normalizedDifference(['B8', 'B4']).rename(['ndvi'])\n",
    "ndviVis = {'min':0, 'max':1, 'palette': ['white', 'green']}\n",
    "\n",
    "Map.addLayer(ndvi2019, ndviVis, 'ndvi')\n",
    "Map.addLayer(ndvi2020, ndviVis, 'ndvi')\n",
    "\n",
    "\n",
    "# 3. Classify NDVI into 5 classes\n",
    "ndvi2019classify = ee.Image(1) \\\n",
    "          .where(ndvi2019.gt(0.0).And(ndvi2019.lte(0.2)), 2) \\\n",
    "          .where(ndvi2019.gt(0.2).And(ndvi2019.lte(0.4)), 3) \\\n",
    "          .where(ndvi2019.gt(0.4).And(ndvi2019.lte(0.6)), 4) \\\n",
    "          .where(ndvi2019.gt(0.6), 5).clip(thane)\n",
    "\n",
    "ndvi2020classify = ee.Image(1) \\\n",
    "          .where(ndvi2020.gt(0.0).And(ndvi2020.lte(0.2)), 2) \\\n",
    "          .where(ndvi2020.gt(0.2).And(ndvi2020.lte(0.4)), 3) \\\n",
    "          .where(ndvi2020.gt(0.4).And(ndvi2020.lte(0.6)), 4) \\\n",
    "          .where(ndvi2020.gt(0.6), 5).clip(thane)\n",
    "\n",
    "# Add map layers\n",
    "Map.addLayer(ndvi2019classify, {'min': 1, 'max': 5, 'palette': ['#654321','#FFA500','#FFFF00', '#00FF00', '#008000']}, 'Classified NDVI 2019',True)\n",
    "Map.addLayer(ndvi2020classify, {'min': 1, 'max': 5, 'palette': ['#654321','#FFA500','#FFFF00', '#00FF00', '#008000']}, 'Classified NDVI 2020',True)\n",
    "\n",
    "\n",
    "#spectral changes\n",
    "def magnitude(image):\n",
    "  return image.pow(2).reduce(ee.Reducer.sum()).sqrt()\n",
    "\n",
    "distance = ndvi2020.subtract(ndvi2019)\n",
    "\n",
    "\n",
    "Map.addLayer(distance, {'min': 0, 'max': 0.1, 'palette': ['white', 'green']}, 'spectral distance')\n",
    "Map.centerObject(thane, 9)\n",
    "Map\n"
   ]
  },
  {
   "cell_type": "code",
   "execution_count": null,
   "metadata": {},
   "outputs": [],
   "source": [
    "threshold=0.3\n",
    "\n",
    "changes = distance.lte(threshold).Or(distance.gte(threshold)).selfMask()\n",
    "# Calculating area above the threshold value\n",
    "pixel_area=changes.multiply(ee.Image.pixelArea())\n",
    "area=pixel_area.reduceRegion(reducer=ee.Reducer.sum(), geometry=thane, scale=30 ,maxPixels=10e9)\n",
    "\n",
    "print(area.get('NDVI').getInfo())"
   ]
  },
  {
   "cell_type": "code",
   "execution_count": 1,
   "metadata": {},
   "outputs": [
    {
     "name": "stdout",
     "output_type": "stream",
     "text": [
      "Enabling notebook extension jupyter-js-widgets/extension...\n",
      "      - Validating: \u001b[32mOK\u001b[0m\n",
      "Enabling: voila\n",
      "- Writing config: /Users/harsh/miniforge3/envs/mlp/etc/jupyter\n",
      "    - Validating...\n",
      "      voila 0.3.5 \u001b[32mOK\u001b[0m\n"
     ]
    }
   ],
   "source": [
    "# !jupyter nbextension enable --py widgetsnbextension --sys-prefix\n",
    "# !jupyter serverextension enable voila --sys-prefix"
   ]
  },
  {
   "cell_type": "code",
   "execution_count": null,
   "metadata": {},
   "outputs": [],
   "source": []
  }
 ],
 "metadata": {
  "interpreter": {
   "hash": "5b972c7d81ad4ef9113ac4c79990fc7dfe856b1bb673f6e233375f412f0fa184"
  },
  "kernelspec": {
   "display_name": "Python 3 (ipykernel)",
   "language": "python",
   "name": "python3"
  },
  "language_info": {
   "codemirror_mode": {
    "name": "ipython",
    "version": 3
   },
   "file_extension": ".py",
   "mimetype": "text/x-python",
   "name": "python",
   "nbconvert_exporter": "python",
   "pygments_lexer": "ipython3",
   "version": "3.8.11"
  }
 },
 "nbformat": 4,
 "nbformat_minor": 2
}
