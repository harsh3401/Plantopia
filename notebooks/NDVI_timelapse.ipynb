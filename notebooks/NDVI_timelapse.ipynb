{
 "cells": [
  {
   "attachments": {},
   "cell_type": "markdown",
   "metadata": {},
   "source": [
    "# NDVI & general timelapse"
   ]
  },
  {
   "cell_type": "code",
   "execution_count": 8,
   "metadata": {},
   "outputs": [],
   "source": [
    "import geemap\n",
    "import numpy as np\n",
    "import pandas as pd\n",
    "import ee\n",
    "import ipywidgets as widgets\n"
   ]
  },
  {
   "cell_type": "code",
   "execution_count": 14,
   "metadata": {},
   "outputs": [
    {
     "ename": "HttpError",
     "evalue": "<HttpError 400 when requesting https://earthengine.googleapis.com/$discovery/rest?version=v1alpha&prettyPrint=false&key=4%2F1AX4XfWizsA-xTTzGy0brjL7TRWqKtqNqg4TdM-UTp2zoxnOEArLDfkeGOfI returned \"API key not valid. Please pass a valid API key.\". Details: \"[{'@type': 'type.googleapis.com/google.rpc.ErrorInfo', 'reason': 'API_KEY_INVALID', 'domain': 'googleapis.com', 'metadata': {'service': 'earthengine.googleapis.com'}}]\">",
     "output_type": "error",
     "traceback": [
      "\u001b[1;31m---------------------------------------------------------------------------\u001b[0m",
      "\u001b[1;31mTypeError\u001b[0m                                 Traceback (most recent call last)",
      "File \u001b[1;32md:\\mini_project\\gisenv\\lib\\site-packages\\ee\\_cloud_api_utils.py:160\u001b[0m, in \u001b[0;36mbuild_cloud_resource\u001b[1;34m(api_base_url, api_key, credentials, timeout, headers_supplier, response_inspector, http_transport, raw)\u001b[0m\n\u001b[0;32m    <a href='file:///d%3A/mini_project/gisenv/lib/site-packages/ee/_cloud_api_utils.py?line=155'>156</a>\u001b[0m \u001b[39mtry\u001b[39;00m:\n\u001b[0;32m    <a href='file:///d%3A/mini_project/gisenv/lib/site-packages/ee/_cloud_api_utils.py?line=156'>157</a>\u001b[0m   \u001b[39m# google-api-python-client made static_discovery the default in version 2,\u001b[39;00m\n\u001b[0;32m    <a href='file:///d%3A/mini_project/gisenv/lib/site-packages/ee/_cloud_api_utils.py?line=157'>158</a>\u001b[0m   \u001b[39m# but it's not backward-compatible. There's no reliable way to check the\u001b[39;00m\n\u001b[0;32m    <a href='file:///d%3A/mini_project/gisenv/lib/site-packages/ee/_cloud_api_utils.py?line=158'>159</a>\u001b[0m   \u001b[39m# package version, either.\u001b[39;00m\n\u001b[1;32m--> <a href='file:///d%3A/mini_project/gisenv/lib/site-packages/ee/_cloud_api_utils.py?line=159'>160</a>\u001b[0m   resource \u001b[39m=\u001b[39m build(static_discovery\u001b[39m=\u001b[39;49m\u001b[39mFalse\u001b[39;49;00m)\n\u001b[0;32m    <a href='file:///d%3A/mini_project/gisenv/lib/site-packages/ee/_cloud_api_utils.py?line=160'>161</a>\u001b[0m \u001b[39mexcept\u001b[39;00m \u001b[39mTypeError\u001b[39;00m:\n",
      "File \u001b[1;32md:\\mini_project\\gisenv\\lib\\site-packages\\ee\\_cloud_api_utils.py:145\u001b[0m, in \u001b[0;36mbuild_cloud_resource.<locals>.build\u001b[1;34m(**kwargs)\u001b[0m\n\u001b[0;32m    <a href='file:///d%3A/mini_project/gisenv/lib/site-packages/ee/_cloud_api_utils.py?line=143'>144</a>\u001b[0m \u001b[39mdef\u001b[39;00m \u001b[39mbuild\u001b[39m(\u001b[39m*\u001b[39m\u001b[39m*\u001b[39mkwargs):\n\u001b[1;32m--> <a href='file:///d%3A/mini_project/gisenv/lib/site-packages/ee/_cloud_api_utils.py?line=144'>145</a>\u001b[0m   \u001b[39mreturn\u001b[39;00m discovery\u001b[39m.\u001b[39;49mbuild(\n\u001b[0;32m    <a href='file:///d%3A/mini_project/gisenv/lib/site-packages/ee/_cloud_api_utils.py?line=145'>146</a>\u001b[0m       \u001b[39m'\u001b[39;49m\u001b[39mearthengine\u001b[39;49m\u001b[39m'\u001b[39;49m,\n\u001b[0;32m    <a href='file:///d%3A/mini_project/gisenv/lib/site-packages/ee/_cloud_api_utils.py?line=146'>147</a>\u001b[0m       VERSION,\n\u001b[0;32m    <a href='file:///d%3A/mini_project/gisenv/lib/site-packages/ee/_cloud_api_utils.py?line=147'>148</a>\u001b[0m       discoveryServiceUrl\u001b[39m=\u001b[39;49mdiscovery_service_url,\n\u001b[0;32m    <a href='file:///d%3A/mini_project/gisenv/lib/site-packages/ee/_cloud_api_utils.py?line=148'>149</a>\u001b[0m       developerKey\u001b[39m=\u001b[39;49mapi_key,\n\u001b[0;32m    <a href='file:///d%3A/mini_project/gisenv/lib/site-packages/ee/_cloud_api_utils.py?line=149'>150</a>\u001b[0m       http\u001b[39m=\u001b[39;49mhttp_transport,\n\u001b[0;32m    <a href='file:///d%3A/mini_project/gisenv/lib/site-packages/ee/_cloud_api_utils.py?line=150'>151</a>\u001b[0m       requestBuilder\u001b[39m=\u001b[39;49mrequest_builder,\n\u001b[0;32m    <a href='file:///d%3A/mini_project/gisenv/lib/site-packages/ee/_cloud_api_utils.py?line=151'>152</a>\u001b[0m       model\u001b[39m=\u001b[39;49malt_model,\n\u001b[0;32m    <a href='file:///d%3A/mini_project/gisenv/lib/site-packages/ee/_cloud_api_utils.py?line=152'>153</a>\u001b[0m       cache_discovery\u001b[39m=\u001b[39;49m\u001b[39mFalse\u001b[39;49;00m,\n\u001b[0;32m    <a href='file:///d%3A/mini_project/gisenv/lib/site-packages/ee/_cloud_api_utils.py?line=153'>154</a>\u001b[0m       \u001b[39m*\u001b[39;49m\u001b[39m*\u001b[39;49mkwargs)\n",
      "File \u001b[1;32md:\\mini_project\\gisenv\\lib\\site-packages\\googleapiclient\\_helpers.py:134\u001b[0m, in \u001b[0;36mpositional.<locals>.positional_decorator.<locals>.positional_wrapper\u001b[1;34m(*args, **kwargs)\u001b[0m\n\u001b[0;32m    <a href='file:///d%3A/mini_project/gisenv/lib/site-packages/googleapiclient/_helpers.py?line=132'>133</a>\u001b[0m         logger\u001b[39m.\u001b[39mwarning(message)\n\u001b[1;32m--> <a href='file:///d%3A/mini_project/gisenv/lib/site-packages/googleapiclient/_helpers.py?line=133'>134</a>\u001b[0m \u001b[39mreturn\u001b[39;00m wrapped(\u001b[39m*\u001b[39;49margs, \u001b[39m*\u001b[39;49m\u001b[39m*\u001b[39;49mkwargs)\n",
      "\u001b[1;31mTypeError\u001b[0m: build() got an unexpected keyword argument 'static_discovery'",
      "\nDuring handling of the above exception, another exception occurred:\n",
      "\u001b[1;31mHttpError\u001b[0m                                 Traceback (most recent call last)",
      "\u001b[1;32md:\\mini_project\\notebooks\\NDVI_timelapse.ipynb Cell 3'\u001b[0m in \u001b[0;36m<cell line: 6>\u001b[1;34m()\u001b[0m\n\u001b[0;32m      <a href='vscode-notebook-cell:/d%3A/mini_project/notebooks/NDVI_timelapse.ipynb#ch0000002?line=3'>4</a>\u001b[0m service_account \u001b[39m=\u001b[39m \u001b[39m'\u001b[39m\u001b[39m\"\u001b[39m\u001b[39mutility-destiny-342105@appspot.gserviceaccount.com\u001b[39m\u001b[39m'\u001b[39m\n\u001b[0;32m      <a href='vscode-notebook-cell:/d%3A/mini_project/notebooks/NDVI_timelapse.ipynb#ch0000002?line=4'>5</a>\u001b[0m credentials \u001b[39m=\u001b[39m ee\u001b[39m.\u001b[39mServiceAccountCredentials(service_account, \u001b[39m'\u001b[39m\u001b[39m./private-key.json\u001b[39m\u001b[39m'\u001b[39m)\n\u001b[1;32m----> <a href='vscode-notebook-cell:/d%3A/mini_project/notebooks/NDVI_timelapse.ipynb#ch0000002?line=5'>6</a>\u001b[0m ee\u001b[39m.\u001b[39;49mInitialize(credentials)\n",
      "File \u001b[1;32md:\\mini_project\\gisenv\\lib\\site-packages\\ee\\__init__.py:123\u001b[0m, in \u001b[0;36mInitialize\u001b[1;34m(credentials, opt_url, cloud_api_key, http_transport, project)\u001b[0m\n\u001b[0;32m    <a href='file:///d%3A/mini_project/gisenv/lib/site-packages/ee/__init__.py?line=120'>121</a>\u001b[0m \u001b[39mif\u001b[39;00m credentials \u001b[39m==\u001b[39m \u001b[39m'\u001b[39m\u001b[39mpersistent\u001b[39m\u001b[39m'\u001b[39m:\n\u001b[0;32m    <a href='file:///d%3A/mini_project/gisenv/lib/site-packages/ee/__init__.py?line=121'>122</a>\u001b[0m   credentials \u001b[39m=\u001b[39m data\u001b[39m.\u001b[39mget_persistent_credentials()\n\u001b[1;32m--> <a href='file:///d%3A/mini_project/gisenv/lib/site-packages/ee/__init__.py?line=122'>123</a>\u001b[0m data\u001b[39m.\u001b[39;49minitialize(\n\u001b[0;32m    <a href='file:///d%3A/mini_project/gisenv/lib/site-packages/ee/__init__.py?line=123'>124</a>\u001b[0m     credentials\u001b[39m=\u001b[39;49mcredentials,\n\u001b[0;32m    <a href='file:///d%3A/mini_project/gisenv/lib/site-packages/ee/__init__.py?line=124'>125</a>\u001b[0m     api_base_url\u001b[39m=\u001b[39;49m(opt_url \u001b[39m+\u001b[39;49m \u001b[39m'\u001b[39;49m\u001b[39m/api\u001b[39;49m\u001b[39m'\u001b[39;49m \u001b[39mif\u001b[39;49;00m opt_url \u001b[39melse\u001b[39;49;00m \u001b[39mNone\u001b[39;49;00m),\n\u001b[0;32m    <a href='file:///d%3A/mini_project/gisenv/lib/site-packages/ee/__init__.py?line=125'>126</a>\u001b[0m     tile_base_url\u001b[39m=\u001b[39;49mopt_url,\n\u001b[0;32m    <a href='file:///d%3A/mini_project/gisenv/lib/site-packages/ee/__init__.py?line=126'>127</a>\u001b[0m     cloud_api_base_url\u001b[39m=\u001b[39;49mopt_url,\n\u001b[0;32m    <a href='file:///d%3A/mini_project/gisenv/lib/site-packages/ee/__init__.py?line=127'>128</a>\u001b[0m     cloud_api_key\u001b[39m=\u001b[39;49mcloud_api_key,\n\u001b[0;32m    <a href='file:///d%3A/mini_project/gisenv/lib/site-packages/ee/__init__.py?line=128'>129</a>\u001b[0m     project\u001b[39m=\u001b[39;49mproject,\n\u001b[0;32m    <a href='file:///d%3A/mini_project/gisenv/lib/site-packages/ee/__init__.py?line=129'>130</a>\u001b[0m     http_transport\u001b[39m=\u001b[39;49mhttp_transport)\n\u001b[0;32m    <a href='file:///d%3A/mini_project/gisenv/lib/site-packages/ee/__init__.py?line=130'>131</a>\u001b[0m \u001b[39m# Initialize the dynamically loaded functions on the objects that want them.\u001b[39;00m\n\u001b[0;32m    <a href='file:///d%3A/mini_project/gisenv/lib/site-packages/ee/__init__.py?line=131'>132</a>\u001b[0m ApiFunction\u001b[39m.\u001b[39minitialize()\n",
      "File \u001b[1;32md:\\mini_project\\gisenv\\lib\\site-packages\\ee\\data.py:203\u001b[0m, in \u001b[0;36minitialize\u001b[1;34m(credentials, api_base_url, tile_base_url, cloud_api_base_url, cloud_api_key, project, http_transport)\u001b[0m\n\u001b[0;32m    <a href='file:///d%3A/mini_project/gisenv/lib/site-packages/ee/data.py?line=198'>199</a>\u001b[0m   _cloud_api_client_version \u001b[39m=\u001b[39m version\n\u001b[0;32m    <a href='file:///d%3A/mini_project/gisenv/lib/site-packages/ee/data.py?line=200'>201</a>\u001b[0m _http_transport \u001b[39m=\u001b[39m http_transport\n\u001b[1;32m--> <a href='file:///d%3A/mini_project/gisenv/lib/site-packages/ee/data.py?line=202'>203</a>\u001b[0m _install_cloud_api_resource()\n\u001b[0;32m    <a href='file:///d%3A/mini_project/gisenv/lib/site-packages/ee/data.py?line=204'>205</a>\u001b[0m \u001b[39mif\u001b[39;00m project \u001b[39mis\u001b[39;00m \u001b[39mnot\u001b[39;00m \u001b[39mNone\u001b[39;00m:\n\u001b[0;32m    <a href='file:///d%3A/mini_project/gisenv/lib/site-packages/ee/data.py?line=205'>206</a>\u001b[0m   _cloud_api_user_project \u001b[39m=\u001b[39m project\n",
      "File \u001b[1;32md:\\mini_project\\gisenv\\lib\\site-packages\\ee\\data.py:262\u001b[0m, in \u001b[0;36m_install_cloud_api_resource\u001b[1;34m()\u001b[0m\n\u001b[0;32m    <a href='file:///d%3A/mini_project/gisenv/lib/site-packages/ee/data.py?line=258'>259</a>\u001b[0m \u001b[39mglobal\u001b[39;00m _http_transport\n\u001b[0;32m    <a href='file:///d%3A/mini_project/gisenv/lib/site-packages/ee/data.py?line=260'>261</a>\u001b[0m timeout \u001b[39m=\u001b[39m (_deadline_ms \u001b[39m/\u001b[39m \u001b[39m1000.0\u001b[39m) \u001b[39mor\u001b[39;00m \u001b[39mNone\u001b[39;00m\n\u001b[1;32m--> <a href='file:///d%3A/mini_project/gisenv/lib/site-packages/ee/data.py?line=261'>262</a>\u001b[0m _cloud_api_resource \u001b[39m=\u001b[39m _cloud_api_utils\u001b[39m.\u001b[39;49mbuild_cloud_resource(\n\u001b[0;32m    <a href='file:///d%3A/mini_project/gisenv/lib/site-packages/ee/data.py?line=262'>263</a>\u001b[0m     _cloud_api_base_url,\n\u001b[0;32m    <a href='file:///d%3A/mini_project/gisenv/lib/site-packages/ee/data.py?line=263'>264</a>\u001b[0m     credentials\u001b[39m=\u001b[39;49m_credentials,\n\u001b[0;32m    <a href='file:///d%3A/mini_project/gisenv/lib/site-packages/ee/data.py?line=264'>265</a>\u001b[0m     api_key\u001b[39m=\u001b[39;49m_cloud_api_key,\n\u001b[0;32m    <a href='file:///d%3A/mini_project/gisenv/lib/site-packages/ee/data.py?line=265'>266</a>\u001b[0m     timeout\u001b[39m=\u001b[39;49mtimeout,\n\u001b[0;32m    <a href='file:///d%3A/mini_project/gisenv/lib/site-packages/ee/data.py?line=266'>267</a>\u001b[0m     headers_supplier\u001b[39m=\u001b[39;49m_make_request_headers,\n\u001b[0;32m    <a href='file:///d%3A/mini_project/gisenv/lib/site-packages/ee/data.py?line=267'>268</a>\u001b[0m     response_inspector\u001b[39m=\u001b[39;49m_handle_profiling_response,\n\u001b[0;32m    <a href='file:///d%3A/mini_project/gisenv/lib/site-packages/ee/data.py?line=268'>269</a>\u001b[0m     http_transport\u001b[39m=\u001b[39;49m_http_transport)\n\u001b[0;32m    <a href='file:///d%3A/mini_project/gisenv/lib/site-packages/ee/data.py?line=270'>271</a>\u001b[0m _cloud_api_resource_raw \u001b[39m=\u001b[39m _cloud_api_utils\u001b[39m.\u001b[39mbuild_cloud_resource(\n\u001b[0;32m    <a href='file:///d%3A/mini_project/gisenv/lib/site-packages/ee/data.py?line=271'>272</a>\u001b[0m     _cloud_api_base_url,\n\u001b[0;32m    <a href='file:///d%3A/mini_project/gisenv/lib/site-packages/ee/data.py?line=272'>273</a>\u001b[0m     credentials\u001b[39m=\u001b[39m_credentials,\n\u001b[1;32m   (...)\u001b[0m\n\u001b[0;32m    <a href='file:///d%3A/mini_project/gisenv/lib/site-packages/ee/data.py?line=277'>278</a>\u001b[0m     http_transport\u001b[39m=\u001b[39m_http_transport,\n\u001b[0;32m    <a href='file:///d%3A/mini_project/gisenv/lib/site-packages/ee/data.py?line=278'>279</a>\u001b[0m     raw\u001b[39m=\u001b[39m\u001b[39mTrue\u001b[39;00m)\n",
      "File \u001b[1;32md:\\mini_project\\gisenv\\lib\\site-packages\\ee\\_cloud_api_utils.py:162\u001b[0m, in \u001b[0;36mbuild_cloud_resource\u001b[1;34m(api_base_url, api_key, credentials, timeout, headers_supplier, response_inspector, http_transport, raw)\u001b[0m\n\u001b[0;32m    <a href='file:///d%3A/mini_project/gisenv/lib/site-packages/ee/_cloud_api_utils.py?line=159'>160</a>\u001b[0m   resource \u001b[39m=\u001b[39m build(static_discovery\u001b[39m=\u001b[39m\u001b[39mFalse\u001b[39;00m)\n\u001b[0;32m    <a href='file:///d%3A/mini_project/gisenv/lib/site-packages/ee/_cloud_api_utils.py?line=160'>161</a>\u001b[0m \u001b[39mexcept\u001b[39;00m \u001b[39mTypeError\u001b[39;00m:\n\u001b[1;32m--> <a href='file:///d%3A/mini_project/gisenv/lib/site-packages/ee/_cloud_api_utils.py?line=161'>162</a>\u001b[0m   resource \u001b[39m=\u001b[39m build()\n\u001b[0;32m    <a href='file:///d%3A/mini_project/gisenv/lib/site-packages/ee/_cloud_api_utils.py?line=162'>163</a>\u001b[0m resource\u001b[39m.\u001b[39m_baseUrl \u001b[39m=\u001b[39m api_base_url\n\u001b[0;32m    <a href='file:///d%3A/mini_project/gisenv/lib/site-packages/ee/_cloud_api_utils.py?line=163'>164</a>\u001b[0m \u001b[39mreturn\u001b[39;00m resource\n",
      "File \u001b[1;32md:\\mini_project\\gisenv\\lib\\site-packages\\ee\\_cloud_api_utils.py:145\u001b[0m, in \u001b[0;36mbuild_cloud_resource.<locals>.build\u001b[1;34m(**kwargs)\u001b[0m\n\u001b[0;32m    <a href='file:///d%3A/mini_project/gisenv/lib/site-packages/ee/_cloud_api_utils.py?line=143'>144</a>\u001b[0m \u001b[39mdef\u001b[39;00m \u001b[39mbuild\u001b[39m(\u001b[39m*\u001b[39m\u001b[39m*\u001b[39mkwargs):\n\u001b[1;32m--> <a href='file:///d%3A/mini_project/gisenv/lib/site-packages/ee/_cloud_api_utils.py?line=144'>145</a>\u001b[0m   \u001b[39mreturn\u001b[39;00m discovery\u001b[39m.\u001b[39;49mbuild(\n\u001b[0;32m    <a href='file:///d%3A/mini_project/gisenv/lib/site-packages/ee/_cloud_api_utils.py?line=145'>146</a>\u001b[0m       \u001b[39m'\u001b[39;49m\u001b[39mearthengine\u001b[39;49m\u001b[39m'\u001b[39;49m,\n\u001b[0;32m    <a href='file:///d%3A/mini_project/gisenv/lib/site-packages/ee/_cloud_api_utils.py?line=146'>147</a>\u001b[0m       VERSION,\n\u001b[0;32m    <a href='file:///d%3A/mini_project/gisenv/lib/site-packages/ee/_cloud_api_utils.py?line=147'>148</a>\u001b[0m       discoveryServiceUrl\u001b[39m=\u001b[39;49mdiscovery_service_url,\n\u001b[0;32m    <a href='file:///d%3A/mini_project/gisenv/lib/site-packages/ee/_cloud_api_utils.py?line=148'>149</a>\u001b[0m       developerKey\u001b[39m=\u001b[39;49mapi_key,\n\u001b[0;32m    <a href='file:///d%3A/mini_project/gisenv/lib/site-packages/ee/_cloud_api_utils.py?line=149'>150</a>\u001b[0m       http\u001b[39m=\u001b[39;49mhttp_transport,\n\u001b[0;32m    <a href='file:///d%3A/mini_project/gisenv/lib/site-packages/ee/_cloud_api_utils.py?line=150'>151</a>\u001b[0m       requestBuilder\u001b[39m=\u001b[39;49mrequest_builder,\n\u001b[0;32m    <a href='file:///d%3A/mini_project/gisenv/lib/site-packages/ee/_cloud_api_utils.py?line=151'>152</a>\u001b[0m       model\u001b[39m=\u001b[39;49malt_model,\n\u001b[0;32m    <a href='file:///d%3A/mini_project/gisenv/lib/site-packages/ee/_cloud_api_utils.py?line=152'>153</a>\u001b[0m       cache_discovery\u001b[39m=\u001b[39;49m\u001b[39mFalse\u001b[39;49;00m,\n\u001b[0;32m    <a href='file:///d%3A/mini_project/gisenv/lib/site-packages/ee/_cloud_api_utils.py?line=153'>154</a>\u001b[0m       \u001b[39m*\u001b[39;49m\u001b[39m*\u001b[39;49mkwargs)\n",
      "File \u001b[1;32md:\\mini_project\\gisenv\\lib\\site-packages\\googleapiclient\\_helpers.py:134\u001b[0m, in \u001b[0;36mpositional.<locals>.positional_decorator.<locals>.positional_wrapper\u001b[1;34m(*args, **kwargs)\u001b[0m\n\u001b[0;32m    <a href='file:///d%3A/mini_project/gisenv/lib/site-packages/googleapiclient/_helpers.py?line=131'>132</a>\u001b[0m     \u001b[39melif\u001b[39;00m positional_parameters_enforcement \u001b[39m==\u001b[39m POSITIONAL_WARNING:\n\u001b[0;32m    <a href='file:///d%3A/mini_project/gisenv/lib/site-packages/googleapiclient/_helpers.py?line=132'>133</a>\u001b[0m         logger\u001b[39m.\u001b[39mwarning(message)\n\u001b[1;32m--> <a href='file:///d%3A/mini_project/gisenv/lib/site-packages/googleapiclient/_helpers.py?line=133'>134</a>\u001b[0m \u001b[39mreturn\u001b[39;00m wrapped(\u001b[39m*\u001b[39;49margs, \u001b[39m*\u001b[39;49m\u001b[39m*\u001b[39;49mkwargs)\n",
      "File \u001b[1;32md:\\mini_project\\gisenv\\lib\\site-packages\\googleapiclient\\discovery.py:295\u001b[0m, in \u001b[0;36mbuild\u001b[1;34m(serviceName, version, http, discoveryServiceUrl, developerKey, model, requestBuilder, credentials, cache_discovery, cache, client_options, adc_cert_path, adc_key_path, num_retries)\u001b[0m\n\u001b[0;32m    <a href='file:///d%3A/mini_project/gisenv/lib/site-packages/googleapiclient/discovery.py?line=292'>293</a>\u001b[0m             \u001b[39mcontinue\u001b[39;00m\n\u001b[0;32m    <a href='file:///d%3A/mini_project/gisenv/lib/site-packages/googleapiclient/discovery.py?line=293'>294</a>\u001b[0m         \u001b[39melse\u001b[39;00m:\n\u001b[1;32m--> <a href='file:///d%3A/mini_project/gisenv/lib/site-packages/googleapiclient/discovery.py?line=294'>295</a>\u001b[0m             \u001b[39mraise\u001b[39;00m e\n\u001b[0;32m    <a href='file:///d%3A/mini_project/gisenv/lib/site-packages/googleapiclient/discovery.py?line=296'>297</a>\u001b[0m \u001b[39m# If discovery_http was created by this function, we are done with it\u001b[39;00m\n\u001b[0;32m    <a href='file:///d%3A/mini_project/gisenv/lib/site-packages/googleapiclient/discovery.py?line=297'>298</a>\u001b[0m \u001b[39m# and can safely close it\u001b[39;00m\n\u001b[0;32m    <a href='file:///d%3A/mini_project/gisenv/lib/site-packages/googleapiclient/discovery.py?line=298'>299</a>\u001b[0m \u001b[39mif\u001b[39;00m http \u001b[39mis\u001b[39;00m \u001b[39mNone\u001b[39;00m:\n",
      "File \u001b[1;32md:\\mini_project\\gisenv\\lib\\site-packages\\googleapiclient\\discovery.py:270\u001b[0m, in \u001b[0;36mbuild\u001b[1;34m(serviceName, version, http, discoveryServiceUrl, developerKey, model, requestBuilder, credentials, cache_discovery, cache, client_options, adc_cert_path, adc_key_path, num_retries)\u001b[0m\n\u001b[0;32m    <a href='file:///d%3A/mini_project/gisenv/lib/site-packages/googleapiclient/discovery.py?line=266'>267</a>\u001b[0m requested_url \u001b[39m=\u001b[39m uritemplate\u001b[39m.\u001b[39mexpand(discovery_url, params)\n\u001b[0;32m    <a href='file:///d%3A/mini_project/gisenv/lib/site-packages/googleapiclient/discovery.py?line=268'>269</a>\u001b[0m \u001b[39mtry\u001b[39;00m:\n\u001b[1;32m--> <a href='file:///d%3A/mini_project/gisenv/lib/site-packages/googleapiclient/discovery.py?line=269'>270</a>\u001b[0m     content \u001b[39m=\u001b[39m _retrieve_discovery_doc(\n\u001b[0;32m    <a href='file:///d%3A/mini_project/gisenv/lib/site-packages/googleapiclient/discovery.py?line=270'>271</a>\u001b[0m         requested_url,\n\u001b[0;32m    <a href='file:///d%3A/mini_project/gisenv/lib/site-packages/googleapiclient/discovery.py?line=271'>272</a>\u001b[0m         discovery_http,\n\u001b[0;32m    <a href='file:///d%3A/mini_project/gisenv/lib/site-packages/googleapiclient/discovery.py?line=272'>273</a>\u001b[0m         cache_discovery,\n\u001b[0;32m    <a href='file:///d%3A/mini_project/gisenv/lib/site-packages/googleapiclient/discovery.py?line=273'>274</a>\u001b[0m         cache,\n\u001b[0;32m    <a href='file:///d%3A/mini_project/gisenv/lib/site-packages/googleapiclient/discovery.py?line=274'>275</a>\u001b[0m         developerKey,\n\u001b[0;32m    <a href='file:///d%3A/mini_project/gisenv/lib/site-packages/googleapiclient/discovery.py?line=275'>276</a>\u001b[0m         num_retries\u001b[39m=\u001b[39;49mnum_retries,\n\u001b[0;32m    <a href='file:///d%3A/mini_project/gisenv/lib/site-packages/googleapiclient/discovery.py?line=276'>277</a>\u001b[0m     )\n\u001b[0;32m    <a href='file:///d%3A/mini_project/gisenv/lib/site-packages/googleapiclient/discovery.py?line=277'>278</a>\u001b[0m     service \u001b[39m=\u001b[39m build_from_document(\n\u001b[0;32m    <a href='file:///d%3A/mini_project/gisenv/lib/site-packages/googleapiclient/discovery.py?line=278'>279</a>\u001b[0m         content,\n\u001b[0;32m    <a href='file:///d%3A/mini_project/gisenv/lib/site-packages/googleapiclient/discovery.py?line=279'>280</a>\u001b[0m         base\u001b[39m=\u001b[39mdiscovery_url,\n\u001b[1;32m   (...)\u001b[0m\n\u001b[0;32m    <a href='file:///d%3A/mini_project/gisenv/lib/site-packages/googleapiclient/discovery.py?line=287'>288</a>\u001b[0m         adc_key_path\u001b[39m=\u001b[39madc_key_path,\n\u001b[0;32m    <a href='file:///d%3A/mini_project/gisenv/lib/site-packages/googleapiclient/discovery.py?line=288'>289</a>\u001b[0m     )\n\u001b[0;32m    <a href='file:///d%3A/mini_project/gisenv/lib/site-packages/googleapiclient/discovery.py?line=289'>290</a>\u001b[0m     \u001b[39mbreak\u001b[39;00m  \u001b[39m# exit if a service was created\u001b[39;00m\n",
      "File \u001b[1;32md:\\mini_project\\gisenv\\lib\\site-packages\\googleapiclient\\discovery.py:376\u001b[0m, in \u001b[0;36m_retrieve_discovery_doc\u001b[1;34m(url, http, cache_discovery, cache, developerKey, num_retries)\u001b[0m\n\u001b[0;32m    <a href='file:///d%3A/mini_project/gisenv/lib/site-packages/googleapiclient/discovery.py?line=372'>373</a>\u001b[0m \u001b[39m# Execute this request with retries build into HttpRequest\u001b[39;00m\n\u001b[0;32m    <a href='file:///d%3A/mini_project/gisenv/lib/site-packages/googleapiclient/discovery.py?line=373'>374</a>\u001b[0m \u001b[39m# Note that it will already raise an error if we don't get a 2xx response\u001b[39;00m\n\u001b[0;32m    <a href='file:///d%3A/mini_project/gisenv/lib/site-packages/googleapiclient/discovery.py?line=374'>375</a>\u001b[0m req \u001b[39m=\u001b[39m HttpRequest(http, HttpRequest\u001b[39m.\u001b[39mnull_postproc, actual_url)\n\u001b[1;32m--> <a href='file:///d%3A/mini_project/gisenv/lib/site-packages/googleapiclient/discovery.py?line=375'>376</a>\u001b[0m resp, content \u001b[39m=\u001b[39m req\u001b[39m.\u001b[39;49mexecute(num_retries\u001b[39m=\u001b[39;49mnum_retries)\n\u001b[0;32m    <a href='file:///d%3A/mini_project/gisenv/lib/site-packages/googleapiclient/discovery.py?line=377'>378</a>\u001b[0m \u001b[39mtry\u001b[39;00m:\n\u001b[0;32m    <a href='file:///d%3A/mini_project/gisenv/lib/site-packages/googleapiclient/discovery.py?line=378'>379</a>\u001b[0m     content \u001b[39m=\u001b[39m content\u001b[39m.\u001b[39mdecode(\u001b[39m\"\u001b[39m\u001b[39mutf-8\u001b[39m\u001b[39m\"\u001b[39m)\n",
      "File \u001b[1;32md:\\mini_project\\gisenv\\lib\\site-packages\\googleapiclient\\_helpers.py:134\u001b[0m, in \u001b[0;36mpositional.<locals>.positional_decorator.<locals>.positional_wrapper\u001b[1;34m(*args, **kwargs)\u001b[0m\n\u001b[0;32m    <a href='file:///d%3A/mini_project/gisenv/lib/site-packages/googleapiclient/_helpers.py?line=131'>132</a>\u001b[0m     \u001b[39melif\u001b[39;00m positional_parameters_enforcement \u001b[39m==\u001b[39m POSITIONAL_WARNING:\n\u001b[0;32m    <a href='file:///d%3A/mini_project/gisenv/lib/site-packages/googleapiclient/_helpers.py?line=132'>133</a>\u001b[0m         logger\u001b[39m.\u001b[39mwarning(message)\n\u001b[1;32m--> <a href='file:///d%3A/mini_project/gisenv/lib/site-packages/googleapiclient/_helpers.py?line=133'>134</a>\u001b[0m \u001b[39mreturn\u001b[39;00m wrapped(\u001b[39m*\u001b[39;49margs, \u001b[39m*\u001b[39;49m\u001b[39m*\u001b[39;49mkwargs)\n",
      "File \u001b[1;32md:\\mini_project\\gisenv\\lib\\site-packages\\googleapiclient\\http.py:915\u001b[0m, in \u001b[0;36mHttpRequest.execute\u001b[1;34m(self, http, num_retries)\u001b[0m\n\u001b[0;32m    <a href='file:///d%3A/mini_project/gisenv/lib/site-packages/googleapiclient/http.py?line=912'>913</a>\u001b[0m     callback(resp)\n\u001b[0;32m    <a href='file:///d%3A/mini_project/gisenv/lib/site-packages/googleapiclient/http.py?line=913'>914</a>\u001b[0m \u001b[39mif\u001b[39;00m resp\u001b[39m.\u001b[39mstatus \u001b[39m>\u001b[39m\u001b[39m=\u001b[39m \u001b[39m300\u001b[39m:\n\u001b[1;32m--> <a href='file:///d%3A/mini_project/gisenv/lib/site-packages/googleapiclient/http.py?line=914'>915</a>\u001b[0m     \u001b[39mraise\u001b[39;00m HttpError(resp, content, uri\u001b[39m=\u001b[39m\u001b[39mself\u001b[39m\u001b[39m.\u001b[39muri)\n\u001b[0;32m    <a href='file:///d%3A/mini_project/gisenv/lib/site-packages/googleapiclient/http.py?line=915'>916</a>\u001b[0m \u001b[39mreturn\u001b[39;00m \u001b[39mself\u001b[39m\u001b[39m.\u001b[39mpostproc(resp, content)\n",
      "\u001b[1;31mHttpError\u001b[0m: <HttpError 400 when requesting https://earthengine.googleapis.com/$discovery/rest?version=v1alpha&prettyPrint=false&key=4%2F1AX4XfWizsA-xTTzGy0brjL7TRWqKtqNqg4TdM-UTp2zoxnOEArLDfkeGOfI returned \"API key not valid. Please pass a valid API key.\". Details: \"[{'@type': 'type.googleapis.com/google.rpc.ErrorInfo', 'reason': 'API_KEY_INVALID', 'domain': 'googleapis.com', 'metadata': {'service': 'earthengine.googleapis.com'}}]\">"
     ]
    }
   ],
   "source": [
    "\n",
    "service_account = 'gisdeployment@platopia-igs.iam.gserviceaccount.com'\n",
    "credentials = ee.ServiceAccountCredentials(service_account, '.platopia-igs-9418924bc717.json')\n",
    "ee.Initialize(credentials)"
   ]
  },
  {
   "attachments": {},
   "cell_type": "markdown",
   "metadata": {},
   "source": [
    "### NDVI computation"
   ]
  },
  {
   "cell_type": "code",
   "execution_count": 45,
   "metadata": {},
   "outputs": [],
   "source": [
    "# With widgets \n",
    "Map = geemap.Map()\n",
    "\n",
    "style = {\"description_width\":\"initial\"}\n",
    "\n",
    "start_year = widgets.IntSlider(description='Start Year:', value=1984, min=1984, max=2020, style=style)\n",
    "end_year = widgets.IntSlider(description='End Year:', value=2020, min=1984, max=2020, style=style)\n",
    "start_month = widgets.IntSlider(description='Start Month:', value=5, min=1, max=12, style=style)\n",
    "end_month = widgets.IntSlider(description='End Month:', value=10, min=1, max=12, style=style)\n",
    "\n",
    "\n",
    "hbox3 = widgets.HBox([start_year, start_month])\n",
    "hbox4 = widgets.HBox([end_year, end_month])"
   ]
  },
  {
   "cell_type": "code",
   "execution_count": 46,
   "metadata": {},
   "outputs": [],
   "source": [
    "choose_region=widgets.Dropdown(\n",
    "    options=[ 'Thane', 'Mumbai_Suburban'],\n",
    "    value='Thane',\n",
    "    description='Number:',\n",
    "    disabled=False,\n",
    ")\n",
    "hbox6 = widgets.HBox([choose_region])"
   ]
  },
  {
   "cell_type": "code",
   "execution_count": 47,
   "metadata": {},
   "outputs": [],
   "source": [
    "#Timelapse widgets\n",
    "\n",
    "create_gif = widgets.Button(\n",
    "    description='Create timelapse',\n",
    "    button_style='primary',\n",
    "    tooltip='Click to create timelapse',\n",
    "    style=style\n",
    ")\n",
    "create_gif.style.button_color='#11b981'\n",
    "download_gif = widgets.Button(\n",
    "    description='Download GIF',\n",
    "    button_style='primary',\n",
    "    tooltip='Click to download timelapse',\n",
    "    disabled=False,\n",
    "    style=style\n",
    ")\n",
    "download_gif.style.button_color='#11b981'\n",
    "output = widgets.Output()\n",
    "\n",
    "hbox5 = widgets.HBox([create_gif])"
   ]
  },
  {
   "cell_type": "code",
   "execution_count": 48,
   "metadata": {},
   "outputs": [],
   "source": [
    "#On submitting the data from widgets\n",
    "\n",
    "def submit_clicked(b):\n",
    "    \n",
    "    with output:\n",
    "        output.clear_output()\n",
    "        if start_year.value > end_year.value:\n",
    "            print('The end year must be great than the start year.')\n",
    "            return\n",
    "        if start_month.value > end_month.value:\n",
    "            print('The end month must be great than the start month.')\n",
    "            return        \n",
    "        if start_year.value == end_year.value:\n",
    "            add_progress_bar = False\n",
    "        else:\n",
    "            add_progress_bar = True\n",
    "            \n",
    "        start_date = str(start_month.value).zfill(2) + '-01'\n",
    "        end_date = str(end_month.value).zfill(2) + '-30'\n",
    "        print(start_date)\n",
    "        print('Computing...')\n",
    "        label=\"Timelapse for NDVI\"\n",
    "        roi=Map.draw_last_feature\n",
    "        Map.add_landsat_ts_gif(label= label, bands=['Blue', 'NIR', 'Red'], nd_bands=['NIR', 'Red'], nd_palette=['blue', 'white', 'green'], nd_threshold=0, start_year=start_year.value, end_year=end_year.value,start_date=start_date, end_date=end_date,add_progress_bar= True, frames_per_second=3)\n",
    "        Map.centerObject(roi, 8)\n",
    "\n",
    "\n",
    "create_gif.on_click(submit_clicked)"
   ]
  },
  {
   "cell_type": "code",
   "execution_count": 49,
   "metadata": {},
   "outputs": [
    {
     "data": {
      "application/vnd.jupyter.widget-view+json": {
       "model_id": "139bb97d23d74a0fbd1465f533c23fe0",
       "version_major": 2,
       "version_minor": 0
      },
      "text/plain": [
       "HBox(children=(IntSlider(value=1984, description='Start Year:', max=2020, min=1984, style=SliderStyle(descript…"
      ]
     },
     "metadata": {},
     "output_type": "display_data"
    }
   ],
   "source": [
    "hbox3"
   ]
  },
  {
   "cell_type": "code",
   "execution_count": 50,
   "metadata": {},
   "outputs": [
    {
     "data": {
      "application/vnd.jupyter.widget-view+json": {
       "model_id": "53d89e53212f4bb49f2ea37f3833efdc",
       "version_major": 2,
       "version_minor": 0
      },
      "text/plain": [
       "HBox(children=(IntSlider(value=2020, description='End Year:', max=2020, min=1984, style=SliderStyle(descriptio…"
      ]
     },
     "metadata": {},
     "output_type": "display_data"
    }
   ],
   "source": [
    "hbox4"
   ]
  },
  {
   "cell_type": "code",
   "execution_count": 51,
   "metadata": {},
   "outputs": [
    {
     "data": {
      "application/vnd.jupyter.widget-view+json": {
       "model_id": "addce358b81c4674a533628fd4184dc9",
       "version_major": 2,
       "version_minor": 0
      },
      "text/plain": [
       "HBox(children=(Button(button_style='primary', description='Create timelapse', style=ButtonStyle(button_color='…"
      ]
     },
     "metadata": {},
     "output_type": "display_data"
    }
   ],
   "source": [
    "hbox5"
   ]
  },
  {
   "cell_type": "code",
   "execution_count": 52,
   "metadata": {},
   "outputs": [
    {
     "data": {
      "application/vnd.jupyter.widget-view+json": {
       "model_id": "bf42de83e22441c3a9651a9fb2514a85",
       "version_major": 2,
       "version_minor": 0
      },
      "text/plain": [
       "Button(button_style='primary', description='Download GIF', style=ButtonStyle(button_color='#11b981'), tooltip=…"
      ]
     },
     "metadata": {},
     "output_type": "display_data"
    }
   ],
   "source": [
    "download_gif"
   ]
  },
  {
   "cell_type": "code",
   "execution_count": 53,
   "metadata": {},
   "outputs": [
    {
     "data": {
      "application/vnd.jupyter.widget-view+json": {
       "model_id": "ba1ca54e68cb49c0856f5bb96657dce9",
       "version_major": 2,
       "version_minor": 0
      },
      "text/plain": [
       "Output()"
      ]
     },
     "metadata": {},
     "output_type": "display_data"
    }
   ],
   "source": [
    "output"
   ]
  },
  {
   "cell_type": "code",
   "execution_count": 54,
   "metadata": {},
   "outputs": [
    {
     "data": {
      "application/vnd.jupyter.widget-view+json": {
       "model_id": "b65798e5fee6469b990090936d78952d",
       "version_major": 2,
       "version_minor": 0
      },
      "text/plain": [
       "Map(center=[20, 0], controls=(WidgetControl(options=['position', 'transparent_bg'], widget=HBox(children=(Togg…"
      ]
     },
     "metadata": {},
     "output_type": "display_data"
    }
   ],
   "source": [
    "Map"
   ]
  }
 ],
 "metadata": {
  "interpreter": {
   "hash": "1315f417dc9843293b1b6e85264bcf6de927554eab037f930dbf13fdb8b55af1"
  },
  "kernelspec": {
   "display_name": "Python 3.8.10 ('gisenv': venv)",
   "language": "python",
   "name": "python3"
  },
  "language_info": {
   "codemirror_mode": {
    "name": "ipython",
    "version": 3
   },
   "file_extension": ".py",
   "mimetype": "text/x-python",
   "name": "python",
   "nbconvert_exporter": "python",
   "pygments_lexer": "ipython3",
   "version": "3.8.10"
  }
 },
 "nbformat": 4,
 "nbformat_minor": 2
}
